{
 "cells": [
  {
   "cell_type": "markdown",
   "metadata": {},
   "source": [
    "**Heuristics for the single-depot VRP:**\n",
    "This Single-Depot Vehicle Routing Problem notebook is based on the \"Savings\" Algorithm of Clarke and Wright. It is a greedy but efficient approach to solve this complex optimization problem."
   ]
  },
  {
   "cell_type": "markdown",
   "metadata": {},
   "source": [
    "Consider a depot $D$ and $n$ demand points. Suppose that initially the solution to the VRP consists of using $n$ vehicles and dispatching one vehicle to each one of the $n$ demand points. The total tour length of this solution is: $2 \\sum_{i=1}^n d(D, i)$.\n",
    "\n",
    "If now we use a single vehicle to serve two points, say $i$ and $j$, on a single trip, the total distance traveled is reduced by the amount:"
   ]
  },
  {
   "cell_type": "markdown",
   "metadata": {},
   "source": [
    "$$s(i,j) = 2d(D, i) + 2d(D, j) - [d(D, i) + d(i, j) + d(D,j)]$$ $$=d(D, i) + d(D, j) - d(i, j)$$"
   ]
  },
  {
   "cell_type": "markdown",
   "metadata": {},
   "source": [
    "The quantity $s(i,j)$ is known as the \"savings\" resulting from combining points $i$ and $j$ into a single tour. The larger $s(i, j)$ is, the more desirable it becomes to combine $i$ and $j$ in a single tour. However, $i$ and $j$ cannot be combined if in doing so the resulting tour violates one or more of the constraints of the VRP."
   ]
  },
  {
   "cell_type": "markdown",
   "metadata": {},
   "source": [
    "Reference: https://web.mit.edu/urban_or_book/www/book/chapter6/6.4.12.html"
   ]
  },
  {
   "cell_type": "code",
   "execution_count": 1,
   "metadata": {},
   "outputs": [],
   "source": [
    "import pandas as pd\n",
    "from itertools import combinations\n",
    "from scipy.spatial import distance_matrix\n",
    "import matplotlib.pyplot as plt"
   ]
  },
  {
   "cell_type": "markdown",
   "metadata": {},
   "source": [
    "# Define Custom Parameters"
   ]
  },
  {
   "cell_type": "code",
   "execution_count": 2,
   "metadata": {},
   "outputs": [],
   "source": [
    "# Maximum number of visits for each route:\n",
    "max_visits = 4"
   ]
  },
  {
   "cell_type": "markdown",
   "metadata": {},
   "source": [
    "# Load and Process Data"
   ]
  },
  {
   "cell_type": "code",
   "execution_count": 3,
   "metadata": {},
   "outputs": [],
   "source": [
    "# Load Raw Data\n",
    "\n",
    "# Randomly generate 50 locations:\n",
    "import numpy as np\n",
    "n = 50\n",
    "raw = pd.DataFrame(np.random.rand(n, 2) * 100, columns=['x','y'])\n",
    "raw.iloc[0]['x'] = 50\n",
    "raw.iloc[0]['y'] = 50"
   ]
  },
  {
   "cell_type": "code",
   "execution_count": 4,
   "metadata": {},
   "outputs": [],
   "source": [
    "# Data Pre-processing\n",
    "\n",
    "data = raw"
   ]
  },
  {
   "cell_type": "markdown",
   "metadata": {},
   "source": [
    "# Visualize Locations"
   ]
  },
  {
   "cell_type": "code",
   "execution_count": 5,
   "metadata": {},
   "outputs": [
    {
     "data": {
      "image/png": "[encoded data removed]",
      "text/plain": [
       "<Figure size 432x288 with 1 Axes>"
      ]
     },
     "metadata": {
      "needs_background": "light"
     },
     "output_type": "display_data"
    }
   ],
   "source": [
    "fig, ax = plt.subplots()\n",
    "ax.scatter(data['x'], data['y'])\n",
    "plt.title(\"Locations\")\n",
    "plt.xlabel(\"x-coordinate\")\n",
    "plt.ylabel(\"y-coordinate\")\n",
    "\n",
    "for i in data.index:\n",
    "    ax.annotate(i, (data.iloc[i]['x'], data.iloc[i]['y']))"
   ]
  },
  {
   "cell_type": "markdown",
   "metadata": {},
   "source": [
    "# Algorithm - Step 1"
   ]
  },
  {
   "cell_type": "markdown",
   "metadata": {},
   "source": [
    "Compute Distance Matrix with Node 0 set as the depot:"
   ]
  },
  {
   "cell_type": "code",
   "execution_count": 6,
   "metadata": {},
   "outputs": [],
   "source": [
    "# distance_matrix() returns a matrix containing distance from every vector in x to every vector in y\n",
    "dist_matrix = np.round(distance_matrix(x=data.values, y=data.values),2)"
   ]
  },
  {
   "cell_type": "markdown",
   "metadata": {},
   "source": [
    "# Algorithm - Step 2"
   ]
  },
  {
   "cell_type": "markdown",
   "metadata": {},
   "source": [
    "Compute Ranked Savings for all Node pairs except Node 0 (i.e. depot):"
   ]
  },
  {
   "cell_type": "code",
   "execution_count": 7,
   "metadata": {},
   "outputs": [
    {
     "name": "stdout",
     "output_type": "stream",
     "text": [
      "Top 10 Node Pairs w.r.t. Savings:\n"
     ]
    },
    {
     "data": {
      "text/html": [
       "<div>\n",
       "<style scoped>\n",
       "    .dataframe tbody tr th:only-of-type {\n",
       "        vertical-align: middle;\n",
       "    }\n",
       "\n",
       "    .dataframe tbody tr th {\n",
       "        vertical-align: top;\n",
       "    }\n",
       "\n",
       "    .dataframe thead th {\n",
       "        text-align: right;\n",
       "    }\n",
       "</style>\n",
       "<table border=\"1\" class=\"dataframe\">\n",
       "  <thead>\n",
       "    <tr style=\"text-align: right;\">\n",
       "      <th></th>\n",
       "      <th>0</th>\n",
       "      <th>1</th>\n",
       "    </tr>\n",
       "  </thead>\n",
       "  <tbody>\n",
       "    <tr>\n",
       "      <th>0</th>\n",
       "      <td>(17, 35)</td>\n",
       "      <td>120.49</td>\n",
       "    </tr>\n",
       "    <tr>\n",
       "      <th>1</th>\n",
       "      <td>(32, 35)</td>\n",
       "      <td>111.16</td>\n",
       "    </tr>\n",
       "    <tr>\n",
       "      <th>2</th>\n",
       "      <td>(17, 32)</td>\n",
       "      <td>110.87</td>\n",
       "    </tr>\n",
       "    <tr>\n",
       "      <th>3</th>\n",
       "      <td>(19, 43)</td>\n",
       "      <td>108.71</td>\n",
       "    </tr>\n",
       "    <tr>\n",
       "      <th>4</th>\n",
       "      <td>(22, 35)</td>\n",
       "      <td>93.82</td>\n",
       "    </tr>\n",
       "    <tr>\n",
       "      <th>5</th>\n",
       "      <td>(10, 22)</td>\n",
       "      <td>93.60</td>\n",
       "    </tr>\n",
       "    <tr>\n",
       "      <th>6</th>\n",
       "      <td>(22, 48)</td>\n",
       "      <td>93.33</td>\n",
       "    </tr>\n",
       "    <tr>\n",
       "      <th>7</th>\n",
       "      <td>(17, 22)</td>\n",
       "      <td>92.90</td>\n",
       "    </tr>\n",
       "    <tr>\n",
       "      <th>8</th>\n",
       "      <td>(22, 32)</td>\n",
       "      <td>92.55</td>\n",
       "    </tr>\n",
       "    <tr>\n",
       "      <th>9</th>\n",
       "      <td>(39, 44)</td>\n",
       "      <td>89.95</td>\n",
       "    </tr>\n",
       "  </tbody>\n",
       "</table>\n",
       "</div>"
      ],
      "text/plain": [
       "          0       1\n",
       "0  (17, 35)  120.49\n",
       "1  (32, 35)  111.16\n",
       "2  (17, 32)  110.87\n",
       "3  (19, 43)  108.71\n",
       "4  (22, 35)   93.82\n",
       "5  (10, 22)   93.60\n",
       "6  (22, 48)   93.33\n",
       "7  (17, 22)   92.90\n",
       "8  (22, 32)   92.55\n",
       "9  (39, 44)   89.95"
      ]
     },
     "metadata": {},
     "output_type": "display_data"
    }
   ],
   "source": [
    "node_pairs = {}\n",
    "for i in range(1, dist_matrix.shape[0]):\n",
    "    for j in range(i+1, dist_matrix.shape[1]):\n",
    "        saving = dist_matrix[0,i] + dist_matrix[0,j] - dist_matrix[i,j]\n",
    "        node_pairs[(i,j)] = saving\n",
    "\n",
    "node_pairs_sorted = sorted(node_pairs.items(), key = lambda x: x[1], reverse=True)\n",
    "df = pd.DataFrame.from_dict(node_pairs_sorted)\n",
    "print('Top 10 Node Pairs w.r.t. Savings:')\n",
    "display(df[:10])"
   ]
  },
  {
   "cell_type": "markdown",
   "metadata": {},
   "source": [
    "# Algorithm Step 3a: Building Blocks"
   ]
  },
  {
   "cell_type": "markdown",
   "metadata": {},
   "source": [
    "## Condition 1: Neither $i$ nor $j$ already assigned to a route"
   ]
  },
  {
   "cell_type": "code",
   "execution_count": 8,
   "metadata": {},
   "outputs": [],
   "source": [
    "def condition1(routes, i, j):\n",
    "    i_assigned = False\n",
    "    j_assigned = False\n",
    "\n",
    "    for r in routes:\n",
    "        if i in r:\n",
    "            i_assigned = True\n",
    "        if j in r:\n",
    "            j_assigned = True\n",
    "        else:\n",
    "            continue\n",
    "\n",
    "    if i_assigned == True or j_assigned == True:\n",
    "        return False # Either i or j or both assigned\n",
    "    else:\n",
    "        return True # Neither i nor j assigned"
   ]
  },
  {
   "cell_type": "markdown",
   "metadata": {},
   "source": [
    "## Condition 2: Exactly one of $i$ or $j$ assigned to a route AND that $i$ or $j$ is not interior"
   ]
  },
  {
   "cell_type": "code",
   "execution_count": 9,
   "metadata": {},
   "outputs": [],
   "source": [
    "def condition2(routes, i, j):\n",
    "    i_assigned = False\n",
    "    j_assigned = False\n",
    "\n",
    "    i_interior = False\n",
    "    j_interior = False\n",
    "\n",
    "    for idx, r in enumerate(routes):\n",
    "        if i in r:\n",
    "            i_assigned = True\n",
    "            if r[1] != i and r[-2] != i:\n",
    "                i_interior = True\n",
    "            else:\n",
    "                route_idx_i = idx\n",
    "        if j in r:\n",
    "            j_assigned = True\n",
    "            if r[1] != j and r[-2] != j:\n",
    "                j_interior = True\n",
    "            else:\n",
    "                route_idx_j = idx\n",
    "        else:\n",
    "            continue\n",
    "\n",
    "    if i_assigned != j_assigned: # Exactly one of i or j assigned to a route\n",
    "        if i_assigned == True:\n",
    "            if i_interior == False:\n",
    "                return route_idx_i, True # Both conditions hold for i\n",
    "            else:\n",
    "                return None, False # i is assigned AND is interior\n",
    "        else:\n",
    "            if j_interior == False:\n",
    "                return route_idx_j, True # Both conditions hold for j\n",
    "            else:\n",
    "                return None, False # j is assigned AND is interior\n",
    "    else:\n",
    "        return None, False # Either both assigned or both unassigned"
   ]
  },
  {
   "cell_type": "markdown",
   "metadata": {},
   "source": [
    "## Condition 3: Both $i$ and $j$ assigned to different routes AND neither $i$ nor $j$ is interior to its route"
   ]
  },
  {
   "cell_type": "code",
   "execution_count": 10,
   "metadata": {},
   "outputs": [],
   "source": [
    "def condition3(routes, i, j):\n",
    "    i_assigned = False\n",
    "    j_assigned = False\n",
    "\n",
    "    i_interior = False\n",
    "    j_interior = False\n",
    "\n",
    "    for idx, r in enumerate(routes):\n",
    "        if i in r and j in r:\n",
    "            return None, None, False # i and j assigned to the same route\n",
    "        else:\n",
    "            if i in r:\n",
    "                i_assigned = True\n",
    "                if r[1] != i and r[-2] != i:\n",
    "                    i_interior = True\n",
    "                else:\n",
    "                    route_idx_i = idx\n",
    "            if j in r:\n",
    "                j_assigned = True\n",
    "                if r[1] != j and r[-2] != j:\n",
    "                    j_interior = True\n",
    "                else:\n",
    "                    route_idx_j = idx\n",
    "            else:\n",
    "                continue\n",
    "\n",
    "    if i_assigned == True and j_assigned == True:\n",
    "        if i_interior == False and j_interior == False:\n",
    "            return route_idx_i, route_idx_j, True # Both conditions hold for i and j\n",
    "        else:\n",
    "            return None, None, False # i, j assigned to different routes but one or both are interior\n",
    "    else:\n",
    "        return None, None, False # Required conditions do not hold for i and j"
   ]
  },
  {
   "cell_type": "markdown",
   "metadata": {},
   "source": [
    "## Additional Custom Functions"
   ]
  },
  {
   "cell_type": "markdown",
   "metadata": {},
   "source": [
    "Find nodes not assigned to any routes:"
   ]
  },
  {
   "cell_type": "code",
   "execution_count": 11,
   "metadata": {},
   "outputs": [],
   "source": [
    "def missing_nodes(df, routes):\n",
    "    init_nodes = set()\n",
    "    out_nodes = set()\n",
    "    \n",
    "    for link in range(len(df)):\n",
    "        init_nodes = init_nodes.union(df.iloc[link][0])\n",
    "\n",
    "    for route in routes:\n",
    "        out_nodes = out_nodes.union(route)\n",
    "\n",
    "    return init_nodes - out_nodes"
   ]
  },
  {
   "cell_type": "markdown",
   "metadata": {},
   "source": [
    "Compute total distance traveled and total savings:"
   ]
  },
  {
   "cell_type": "code",
   "execution_count": 12,
   "metadata": {},
   "outputs": [],
   "source": [
    "def total_dist_savings(dist_matrix, df, routes):\n",
    "    \n",
    "    # Combinations of routes:\n",
    "    pairs = []\n",
    "    for route in routes:\n",
    "        if len(route) > 3:\n",
    "            pairs += list(combinations(sorted(route[1:-1]), 2))\n",
    "        else:\n",
    "            pairs += list(combinations(sorted(route[:-1]), 2))\n",
    "\n",
    "    total_savings = df[df[0].isin(pairs)][1].sum()\n",
    "    \n",
    "    total_distance = 0.\n",
    "    \n",
    "    for (i,j) in pairs:\n",
    "        total_distance += dist_matrix[i,j]\n",
    "        \n",
    "    return total_distance, total_savings"
   ]
  },
  {
   "cell_type": "markdown",
   "metadata": {},
   "source": [
    "# Algorithm - Step 3b: Run the model"
   ]
  },
  {
   "cell_type": "code",
   "execution_count": 13,
   "metadata": {},
   "outputs": [],
   "source": [
    "# Prepare routes as a list of lists:\n",
    "routes = []\n",
    "\n",
    "for link in range(len(df)):\n",
    "    i, j = df.iloc[link][0]\n",
    "    \n",
    "    # Evaluate Conditions:\n",
    "    c1 = condition1(routes, i, j)\n",
    "    idx, c2 = condition2(routes, i, j)\n",
    "    idx1, idx2, c3 = condition3(routes, i, j)\n",
    "\n",
    "    if c1 == True:\n",
    "        # Initiate new route including link (i,j)\n",
    "        routes.append([0, i, j, 0])\n",
    "\n",
    "    elif c2 == True:\n",
    "        # Add link (i,j) to the same route\n",
    "        route = routes[idx]\n",
    "        if i not in route and len(route) < max_visits+2:\n",
    "            # Is j in the beginning or in the end of the route?\n",
    "            if route[1] == j:\n",
    "                new = [0, i]\n",
    "                new += route[1:]\n",
    "                routes[idx] = new\n",
    "            else:\n",
    "                new = route[:-1]\n",
    "                new += [i, 0]\n",
    "                routes[idx] = new\n",
    "        elif j not in route and len(route) < max_visits+2:\n",
    "            # Is i in the beginning or in the end of the route?\n",
    "            if route[1] == i:\n",
    "                new = [0, j]\n",
    "                new += route[1:]\n",
    "                routes[idx] = new\n",
    "            else:\n",
    "                new = route[:-1]\n",
    "                new += [j, 0]\n",
    "                routes[idx] = new\n",
    "        else:\n",
    "            # Max limit of a route reached so can't add another node\n",
    "            continue\n",
    "\n",
    "    elif c3 == True:\n",
    "        # Merge the two routes containing i and j\n",
    "        route1 = routes[idx1]\n",
    "        route2 = routes[idx2]\n",
    "\n",
    "        combined_visits = len(route1[1:-1]) + len(route2[1:-1])\n",
    "\n",
    "        if combined_visits <= max_visits:\n",
    "            new = [0]\n",
    "            new += route1[1:-1]\n",
    "            new += route2[1:-1]\n",
    "            new += [0]\n",
    "\n",
    "            new_routes = []\n",
    "            for ind, r in enumerate(routes):\n",
    "                if ind not in {idx1, idx2}:\n",
    "                    new_routes.append(r)\n",
    "\n",
    "            new_routes.append(new)\n",
    "\n",
    "            routes = new_routes\n",
    "        else:\n",
    "            # Merged route exceeds Max limit so can't merge\n",
    "            continue\n",
    "\n",
    "    else:\n",
    "        # None of the three conditions hold.\n",
    "        continue\n",
    "\n",
    "# Add individual left-over routes:\n",
    "missing = missing_nodes(df, routes)\n",
    "\n",
    "for node in missing:\n",
    "    new_route = [0, node, 0]\n",
    "    routes.append(new_route)\n",
    "\n",
    "distance, savings = total_dist_savings(dist_matrix, df, routes)"
   ]
  },
  {
   "cell_type": "markdown",
   "metadata": {},
   "source": [
    "# Model Output"
   ]
  },
  {
   "cell_type": "code",
   "execution_count": 14,
   "metadata": {},
   "outputs": [
    {
     "name": "stdout",
     "output_type": "stream",
     "text": [
      "Total No. of Routes found: 13\n",
      "\n",
      "Routes Generated:\n",
      "0: [0, 27, 17, 35, 32, 0]\n",
      "1: [0, 19, 43, 49, 28, 0]\n",
      "2: [0, 10, 22, 48, 30, 0]\n",
      "3: [0, 39, 44, 40, 24, 0]\n",
      "4: [0, 15, 21, 25, 45, 0]\n",
      "5: [0, 1, 42, 11, 33, 0]\n",
      "6: [0, 5, 3, 20, 47, 0]\n",
      "7: [0, 36, 6, 14, 46, 0]\n",
      "8: [0, 8, 38, 13, 37, 0]\n",
      "9: [0, 16, 9, 41, 26, 0]\n",
      "10: [0, 2, 4, 31, 34, 0]\n",
      "11: [0, 29, 12, 23, 7, 0]\n",
      "12: [0, 18, 0]\n",
      "\n",
      "Total Distance Traveled: 1167.1\n",
      "\n",
      "Total Savings: 4323.4\n"
     ]
    }
   ],
   "source": [
    "print('Total No. of Routes found:', len(routes))\n",
    "print('\\nRoutes Generated:')\n",
    "for i, r in enumerate(routes):\n",
    "    print(i, ': ', r, sep='', end='\\n')\n",
    "print('\\nTotal Distance Traveled:', round(distance,1))\n",
    "print('\\nTotal Savings:', round(savings,1))"
   ]
  },
  {
   "cell_type": "markdown",
   "metadata": {},
   "source": [
    "# Visualize Routes:"
   ]
  },
  {
   "cell_type": "code",
   "execution_count": 15,
   "metadata": {},
   "outputs": [
    {
     "data": {
      "image/png": "[encoded data removed]",
      "text/plain": [
       "<Figure size 432x288 with 1 Axes>"
      ]
     },
     "metadata": {
      "needs_background": "light"
     },
     "output_type": "display_data"
    }
   ],
   "source": [
    "fig, ax = plt.subplots()\n",
    "ax.scatter(data['x'], data['y'])\n",
    "plt.title(\"Modeled Routes\")\n",
    "plt.xlabel(\"x-coordinate\")\n",
    "plt.ylabel(\"y-coordinate\")\n",
    "\n",
    "for i in data.index:\n",
    "    ax.annotate(i, (data.iloc[i]['x'], data.iloc[i]['y']))\n",
    "\n",
    "for r in routes:\n",
    "    sub_df = data.iloc[r]\n",
    "    ax.plot(sub_df['x'], sub_df['y'], '-')"
   ]
  }
 ],
 "metadata": {
  "kernelspec": {
   "display_name": "Python 3",
   "language": "python",
   "name": "python3"
  },
  "language_info": {
   "codemirror_mode": {
    "name": "ipython",
    "version": 3
   },
   "file_extension": ".py",
   "mimetype": "text/x-python",
   "name": "python",
   "nbconvert_exporter": "python",
   "pygments_lexer": "ipython3",
   "version": "3.8.5"
  }
 },
 "nbformat": 4,
 "nbformat_minor": 4
}
